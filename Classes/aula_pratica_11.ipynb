{
 "cells": [
  {
   "cell_type": "markdown",
   "metadata": {},
   "source": [
    "Since no programming exercises were shown during week #11 pratical classes, this notebook will only have the presented code definition for the Numeric Differentiation methods, and a solved exercise."
   ]
  },
  {
   "cell_type": "markdown",
   "metadata": {},
   "source": [
    "## Method's Definitions"
   ]
  },
  {
   "cell_type": "code",
   "execution_count": null,
   "metadata": {},
   "outputs": [],
   "source": [
    "# approximation by the Numeric Derivative with step-size h\n",
    "# f: function\n",
    "# M = max | f''(c) | , x-h < c < x\n",
    "def first_derivative_numeric(f, x, h, M):\n",
    "    result = (f(x) - f(x-h))/h\n",
    "    error = h * M / 2\n",
    "    return result, error\n",
    "\n",
    "# approximation of the first derivative by the Middle Point Rule / Central Differences Rule\n",
    "# f: function\n",
    "# M = max | f'''(c) | , x-h < c < x+h\n",
    "def first_derivative_central_diffs(f, x, h, M):\n",
    "    result = (f(x+h) - f(x-h))/(2*h)\n",
    "    error = h**2 * M / 6\n",
    "    return result, error\n",
    "\n",
    "# approximation of the second derivative by the Middle Point Rule / Central Differences Rule\n",
    "# f: function\n",
    "# M = max | f''''(c) | , x-h < c < x+h\n",
    "def second_derivative_central_diffs(f, x, h, M):\n",
    "    result = (f(x+h) - 2*f(x) + f(x-h))/(h**2)\n",
    "    error = h**2 * M / 12\n",
    "    return result, error"
   ]
  },
  {
   "cell_type": "markdown",
   "metadata": {},
   "source": [
    "## Worksheet 4"
   ]
  },
  {
   "cell_type": "markdown",
   "metadata": {},
   "source": [
    "### Exercise 8"
   ]
  },
  {
   "cell_type": "code",
   "execution_count": 5,
   "metadata": {},
   "outputs": [
    {
     "name": "stdout",
     "output_type": "stream",
     "text": [
      "Considering h = 0.001...\n",
      "Result = 1.0799999999999976\n",
      "\n",
      "Considering h = 0.002...\n",
      "Result = 1.0825\n"
     ]
    }
   ],
   "source": [
    "# whenever the exercise presents a table of points (x_value, f_value) instead of the function definition,\n",
    "# we can always define a dictionary that resembles the table values and associate f(x_value) to getting the f_value associated with such x_value,\n",
    "# as long as, whenever calling f(x-h) and/or f(x+h), the values x-h and/or x+h are keys of the dictionary\n",
    "\n",
    "def f(x):\n",
    "    table_values = {\n",
    "        0.398: 0.40859,\n",
    "        0.399: 0.40967,\n",
    "        0.400: 0.41075,\n",
    "        0.401: 0.41183,\n",
    "        0.402: 0.41292\n",
    "    }\n",
    "    return table_values[x]\n",
    "\n",
    "# since this exercise doesn't give a function definition, we'll redifine the first derivative function without returning the error\n",
    "def first_derivative_central_diffs(f, x, h):\n",
    "    result = (f(x+h) - f(x-h))/(2*h)\n",
    "    return result\n",
    "\n",
    "print(\"Considering h = 0.001...\")\n",
    "result = first_derivative_central_diffs(f, x=0.4, h=0.001)\n",
    "print(f\"Result = {result}\")\n",
    "\n",
    "print()\n",
    "\n",
    "print(\"Considering h = 0.002...\")\n",
    "result = first_derivative_central_diffs(f, x=0.4, h=0.002)\n",
    "print(f\"Result = {result}\")"
   ]
  }
 ],
 "metadata": {
  "kernelspec": {
   "display_name": "base",
   "language": "python",
   "name": "python3"
  },
  "language_info": {
   "codemirror_mode": {
    "name": "ipython",
    "version": 3
   },
   "file_extension": ".py",
   "mimetype": "text/x-python",
   "name": "python",
   "nbconvert_exporter": "python",
   "pygments_lexer": "ipython3",
   "version": "3.9.7"
  }
 },
 "nbformat": 4,
 "nbformat_minor": 2
}
