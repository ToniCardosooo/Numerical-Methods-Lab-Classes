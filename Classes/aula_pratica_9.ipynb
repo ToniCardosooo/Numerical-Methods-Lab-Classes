{
 "cells": [
  {
   "cell_type": "markdown",
   "metadata": {},
   "source": [
    "## Worksheet 3"
   ]
  },
  {
   "cell_type": "code",
   "execution_count": 2,
   "metadata": {},
   "outputs": [],
   "source": [
    "import numpy as np\n",
    "\n",
    "# X: list of x values\n",
    "# F: list of f values\n",
    "# n: the degree of the polinomial\n",
    "# returns a list with the coeficients \"a\" = [a_0, a_1, ..., a_n] \n",
    "def MinimumSquares(X, F, n):\n",
    "    # define matrix A\n",
    "    A = [[x**k for x in X] for k in range(n+1)]\n",
    "    A = np.array(A)\n",
    "\n",
    "    # define the transpose matrix of A, A^T\n",
    "    At = np.transpose(A)\n",
    "\n",
    "    # define matrix f\n",
    "    f = np.array(F)\n",
    "\n",
    "    # to solve the system of equations defined by A*At*a = A*f in order to a\n",
    "    # we can use numpy.linalg.solve() function\n",
    "    # x = numpy.linalg.solve(A, B) solves the system of equations represented by A*x = B in order to x\n",
    "    a = np.linalg.solve(np.matmul(A, At), np.matmul(A, f))\n",
    "    return a\n",
    "\n",
    "# coefs: list of the polinomial coefficients in a_0, a_1, ..., a_n order\n",
    "# x: x value to calculate the p_n(x) of\n",
    "def polynomial(coefs, x):\n",
    "    res = 0\n",
    "    for i in range(len(coefs)):\n",
    "        res += coefs[i] * x**i\n",
    "    return res\n",
    "\n",
    "# returns the square of the norm of the residue vector\n",
    "def residue_norm_squared(X, F, coefs):\n",
    "    residue = 0\n",
    "    for i in range(len(X)):\n",
    "        residue += (F[i] - polynomial(coefs, X[i]))**2\n",
    "    return residue\n"
   ]
  },
  {
   "cell_type": "markdown",
   "metadata": {},
   "source": [
    "### Exercise 18\n",
    "\n",
    "Given the printout of the code below, the answer is $ p_2(x) = 0.39724 + 0.70783x - 0.105 x^2 $"
   ]
  },
  {
   "cell_type": "code",
   "execution_count": 5,
   "metadata": {},
   "outputs": [
    {
     "name": "stdout",
     "output_type": "stream",
     "text": [
      "[ 0.3972425  0.70783   -0.105    ]\n",
      "1.0583001000000865\n",
      "4.499999999859123e-11\n"
     ]
    }
   ],
   "source": [
    "X = [1.05, 1.10, 1.15, 1.20]\n",
    "F = [1.02470, 1.04881, 1.07238, 1.09544]\n",
    "\n",
    "coefs = MinimumSquares(X, F, 2)\n",
    "print(coefs)\n",
    "\n",
    "print(polynomial(coefs, 1.12))\n",
    "print(residue_norm_squared(X, F, coefs))"
   ]
  },
  {
   "cell_type": "markdown",
   "metadata": {},
   "source": [
    "### Exercise 19\n",
    "\n",
    "Given the printout of the code below the answer is $ p_1(x) = 0.16667 + 0.63662x $"
   ]
  },
  {
   "cell_type": "code",
   "execution_count": 4,
   "metadata": {},
   "outputs": [
    {
     "name": "stdout",
     "output_type": "stream",
     "text": [
      "[0.16666667 0.63661977]\n"
     ]
    }
   ],
   "source": [
    "import math\n",
    "\n",
    "X = [0, math.pi/4, math.pi/2]\n",
    "F = [0, 1, 1]\n",
    "\n",
    "coefs = MinimumSquares(X, F, 1)\n",
    "print(coefs)"
   ]
  },
  {
   "cell_type": "markdown",
   "metadata": {},
   "source": [
    "## Test-like Exercises for TP3"
   ]
  },
  {
   "cell_type": "markdown",
   "metadata": {},
   "source": [
    "### Exercise 1"
   ]
  },
  {
   "cell_type": "code",
   "execution_count": 8,
   "metadata": {},
   "outputs": [],
   "source": [
    "def interpolation(x, x_vals, f_vals):\n",
    "    result = 0\n",
    "    for k in range(len(x_vals)):\n",
    "        # calculate the value of l_k\n",
    "        l_k = 1\n",
    "        for i in range(len(x_vals)):\n",
    "            if (i == k):\n",
    "                continue\n",
    "            l_k *= (x - x_vals[i]) / (x_vals[k] - x_vals[i])\n",
    "        # calculate l_k * f_k\n",
    "        result += l_k * f_vals[k]\n",
    "    return result"
   ]
  },
  {
   "cell_type": "code",
   "execution_count": 10,
   "metadata": {},
   "outputs": [
    {
     "name": "stdout",
     "output_type": "stream",
     "text": [
      " 0.13983\n"
     ]
    }
   ],
   "source": [
    "X = [1.37, 1.40]\n",
    "F = [0.1367, 0.1461]\n",
    "print(f\"{interpolation(1.38, X, F): .5f}\")"
   ]
  },
  {
   "cell_type": "code",
   "execution_count": 11,
   "metadata": {},
   "outputs": [
    {
     "name": "stdout",
     "output_type": "stream",
     "text": [
      " 0.13986\n"
     ]
    }
   ],
   "source": [
    "X = [1.35, 1.37, 1.40]\n",
    "F = [0.1303, 0.1367, 0.1461]\n",
    "print(f\"{interpolation(1.38, X, F): .5f}\")"
   ]
  },
  {
   "cell_type": "markdown",
   "metadata": {},
   "source": [
    "### Exercise 2"
   ]
  },
  {
   "cell_type": "code",
   "execution_count": null,
   "metadata": {},
   "outputs": [],
   "source": [
    "import numpy as np\n",
    "\n",
    "# X: list of x values\n",
    "# F: list of f values\n",
    "# n: the degree of the polinomial\n",
    "# returns a list with the coeficients \"a\" = [a_0, a_1, ..., a_n] \n",
    "def MinimumSquares(X, F, n):\n",
    "    # define matrix A\n",
    "    A = [[x**k for x in X] for k in range(n+1)]\n",
    "    A = np.array(A)\n",
    "\n",
    "    # define the transpose matrix of A, A^T\n",
    "    At = np.transpose(A)\n",
    "\n",
    "    # define matrix f\n",
    "    f = np.array(F)\n",
    "\n",
    "    # to solve the system of equations defined by A*At*a = A*f in order to a\n",
    "    # we can use numpy.linalg.solve() function\n",
    "    # x = numpy.linalg.solve(A, B) solves the system of equations represented by A*x = B in order to x\n",
    "    a = np.linalg.solve(np.matmul(A, At), np.matmul(A, f))\n",
    "    return a\n",
    "\n",
    "# coefs: list of the polinomial coefficients in a_0, a_1, ..., a_n order\n",
    "# x: x value to calculate the p_n(x) of\n",
    "def polynomial(coefs, x):\n",
    "    res = 0\n",
    "    for i in range(len(coefs)):\n",
    "        res += coefs[i] * x**i\n",
    "    return res\n",
    "\n",
    "# returns the square of the norm of the residue vector\n",
    "def residue_norm_squared(X, F, coefs):\n",
    "    residue = 0\n",
    "    for i in range(len(X)):\n",
    "        residue += (F[i] - polynomial(coefs, X[i]))**2\n",
    "    return residue\n"
   ]
  },
  {
   "cell_type": "code",
   "execution_count": 12,
   "metadata": {},
   "outputs": [
    {
     "name": "stdout",
     "output_type": "stream",
     "text": [
      "1.0509642857142865\n",
      "[0.77065476 0.2297619 ]\n",
      "7.886904761905042e-05\n"
     ]
    }
   ],
   "source": [
    "X = [1.0, 1.05, 1.1, 1.15, 1.2, 1.25, 1.3, 1.35]\n",
    "F = [1.0, 1.01, 1.02, 1.04, 1.05, 1.06, 1.065, 1.08]\n",
    "\n",
    "coefs = MinimumSquares(X, F, 1)\n",
    "print(polynomial(coefs, 1.22))\n",
    "print(coefs)\n",
    "print(residue_norm_squared(X, F, coefs))"
   ]
  }
 ],
 "metadata": {
  "kernelspec": {
   "display_name": "base",
   "language": "python",
   "name": "python3"
  },
  "language_info": {
   "codemirror_mode": {
    "name": "ipython",
    "version": 3
   },
   "file_extension": ".py",
   "mimetype": "text/x-python",
   "name": "python",
   "nbconvert_exporter": "python",
   "pygments_lexer": "ipython3",
   "version": "3.9.7"
  }
 },
 "nbformat": 4,
 "nbformat_minor": 2
}
