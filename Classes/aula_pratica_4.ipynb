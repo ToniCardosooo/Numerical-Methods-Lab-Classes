{
 "cells": [
  {
   "cell_type": "markdown",
   "metadata": {},
   "source": [
    "# Error on Numerical Resolution of Systems of Linear Equation "
   ]
  },
  {
   "cell_type": "markdown",
   "metadata": {},
   "source": [
    "**TERMINOLOGY FOR THIS NOTEBOOK**\n",
    "  + $A$ - Coefficient Matrix\n",
    "  + $B$ - Constants Vector\n",
    "  + $X$ - Solution Vector\n",
    "  + $R$ - Residue Vector\n"
   ]
  },
  {
   "cell_type": "markdown",
   "metadata": {},
   "source": [
    "## Fixed Significant Figures Arithmetic Operators"
   ]
  },
  {
   "cell_type": "markdown",
   "metadata": {},
   "source": [
    "For this notebook, we will always want to perform the calculations on a fixed number of significant figures.\n",
    "\n",
    "In a previous class, we discovered a Python library with a function that allowed us to get a value rounded to the given number of significant figures.\n",
    "```\n",
    "from sigfig import round\n",
    "round(3.2467231, sigfigs = 3)\n",
    "  >>> 3.25\n",
    "round(3.2467231, sigfigs = 5)\n",
    "  >>> 3.2467\n",
    "```"
   ]
  },
  {
   "cell_type": "markdown",
   "metadata": {},
   "source": [
    "To simplify our code, instead of calling multiple times ```round(value, sigfigs = number_significative_figures)```, we'll use a little simpler system.\n",
    "\n",
    "We'll define functions ```add```, ```sub```, ```mul``` and ```div``` so that we can represent $ \\frac{A \\times B}{A + B} $ as\n",
    "```\n",
    "div(mul(A, B, sf=3), add(A, B, sf=3), sf=3)\n",
    "```\n",
    "instead of\n",
    "```\n",
    "round(round(round(A, sigfigs=3) * round(B, sigfigs=3), sigfgis=3) / round(round(A, sigfigs=3) + round(B, sigfigs=3), sigfgis=3), sigfigs=3)\n",
    "```"
   ]
  },
  {
   "cell_type": "code",
   "execution_count": 2,
   "metadata": {},
   "outputs": [],
   "source": [
    "from sigfig import round\n",
    "\n",
    "SIGNIFICANT_FIGURES = 1\n",
    "\n",
    "def add(x, y, sf=SIGNIFICANT_FIGURES):\n",
    "    if sf == -1:\n",
    "        return x+y\n",
    "    x = round(x, sigfigs=sf)\n",
    "    y = round(y, sigfigs=sf)\n",
    "    return round(x+y, sigfigs=sf)\n",
    "\n",
    "def sub(x, y, sf=SIGNIFICANT_FIGURES):\n",
    "    if sf == -1:\n",
    "        return x-y\n",
    "    x = round(x, sigfigs=sf)\n",
    "    y = round(y, sigfigs=sf)\n",
    "    return round(x-y, sigfigs=sf)\n",
    "\n",
    "def mul(x, y, sf=SIGNIFICANT_FIGURES):\n",
    "    if sf == -1:\n",
    "        return x*y\n",
    "    x = round(x, sigfigs=sf)\n",
    "    y = round(y, sigfigs=sf)\n",
    "    return round(x*y, sigfigs=sf)\n",
    "\n",
    "def div(x, y, sf=SIGNIFICANT_FIGURES):\n",
    "    if sf == -1:\n",
    "        return x/y\n",
    "    x = round(x, sigfigs=sf)\n",
    "    y = round(y, sigfigs=sf)\n",
    "    return round(x/y, sigfigs=sf)"
   ]
  },
  {
   "cell_type": "markdown",
   "metadata": {},
   "source": [
    "## Gaussian Elimination"
   ]
  },
  {
   "cell_type": "markdown",
   "metadata": {},
   "source": [
    "We aim to perform Gaussian Elimination on the system of linear equations in order to obtain an upper traingular coefficient matrix.\n",
    "\n",
    "In Gaussian Elimination, we want to find the system with an upper triangular coefficient matrix equivalent to the starting system."
   ]
  },
  {
   "cell_type": "markdown",
   "metadata": {},
   "source": [
    "To achieve that equivalent system, which will have an upper triangular coefficient matrix, we need to perform the Gaussian Elimination algorithm:\n",
    "\n",
    "**_k-th step of the Gaussian Elimination algorithm_**\n",
    "\n",
    "```\n",
    "for i in [k+1, ..., n]\n",
    "    if A[k][k] != 0\n",
    "        m = A[i][k] / A[k][k]\n",
    "        A[i] = A[i] - m * A[k]\n",
    "        B[i] = B[i] - m * B[k]\n",
    "```\n",
    "\n",
    "Since ```A[i]``` represents the $i$-th row of $A$, then ```A[i] - m * A[k]``` is an element-wise difference.\n",
    "\n",
    "Note that we only have to perform that difference on the elements that start on the same column as ```A[k][k]```."
   ]
  },
  {
   "cell_type": "markdown",
   "metadata": {},
   "source": [
    "Now, we only have to apply this algorithm to each element ```A[k][k]```."
   ]
  },
  {
   "cell_type": "markdown",
   "metadata": {},
   "source": [
    "### Implementation of the Gaussian Elimination algorithm"
   ]
  },
  {
   "cell_type": "code",
   "execution_count": 3,
   "metadata": {},
   "outputs": [],
   "source": [
    "# functions for some prettier printing\n",
    "\n",
    "def print_augmented_matrix(A, B):\n",
    "    for i in range(len(A)):\n",
    "        print(*A[i], \"\\t|\\t\", B[i])\n",
    "    print()\n",
    "\n",
    "def print_solution(X):\n",
    "    for i in range(len(X)):\n",
    "        print(f\"x{i+1} = {X[i]}\")"
   ]
  },
  {
   "cell_type": "code",
   "execution_count": 4,
   "metadata": {},
   "outputs": [],
   "source": [
    "import numpy as np\n",
    "\n",
    "# returns the upper triangular matrix resultant of the Gaussian Elimination method\n",
    "def gaussian_elimination(A, B, sf):\n",
    "    n = len(B)\n",
    "    # pass the values to the correct number of significant figures, just in case\n",
    "    for i in range(n):\n",
    "        for j in range(n):\n",
    "            A[i][j] = round(A[i][j], sigfigs=sf)\n",
    "        B[i] = round(B[i], sigfigs=sf)\n",
    "    # start the Gaussian Elimination algorithm\n",
    "    for k in range(n):\n",
    "        for i in range(k+1, n):\n",
    "            m = div(A[i][k], A[k][k], sf)\n",
    "            for j in range(k, n):\n",
    "                A[i][j] = sub(A[i][j], mul(m, A[k][j], sf), sf)\n",
    "            B[i] = sub(B[i], mul(m, B[k], sf), sf)\n",
    "\n",
    "    return A, B"
   ]
  },
  {
   "cell_type": "markdown",
   "metadata": {},
   "source": [
    "## Solving the system after Gaussian Elimination"
   ]
  },
  {
   "cell_type": "markdown",
   "metadata": {},
   "source": [
    "Once we have the upper triangular coefficient matrix and the resulting constants vector, we can find the solution vector by solving for each variable with backwards stepping.\n",
    "\n",
    "That is, since it is trivial to find the solution to the last variable, we can achieve previous solutions by using the already known ones."
   ]
  },
  {
   "cell_type": "markdown",
   "metadata": {},
   "source": [
    "The last variable is easy to calculate:\n",
    "```\n",
    "X[n] = B[n] / A[n][n]\n",
    "```\n",
    "\n",
    "The next ones we can do iteratively as:\n",
    "```\n",
    "for i in [n-1, ..., 1]\n",
    "    X[i] = ( B[i] - sum(A[i][j] * X[j], for j in [i+1, ..., n]) ) / A[i][i] \n",
    "```"
   ]
  },
  {
   "cell_type": "markdown",
   "metadata": {},
   "source": [
    "### Implementation of the algorithm to obtain the Solution Vector, $X$, given the results from the Gaussian Elimination algorithm"
   ]
  },
  {
   "cell_type": "code",
   "execution_count": 5,
   "metadata": {},
   "outputs": [],
   "source": [
    "# solves the upper triangular matrix resultant of the Gaussian Elimination method\n",
    "def solve_upper_triangular(A, B, sf):\n",
    "    n = len(B)\n",
    "    X = [\"to be defined\" for _ in range(n)]\n",
    "    # pass the values to the correct number of significant figures, just in case\n",
    "    for i in range(n):\n",
    "        for j in range(n):\n",
    "            A[i][j] = round(A[i][j], sigfigs=sf)\n",
    "        B[i] = round(B[i], sigfigs=sf)\n",
    "    # backword stepping to calculate the variables\n",
    "    for i in reversed(range(n)):\n",
    "        # get the last variable\n",
    "        if i == n-1:\n",
    "            X[i] = div(B[i], A[i][i], sf)\n",
    "            continue\n",
    "        # get the remaining variables\n",
    "        X[i] = B[i]\n",
    "        for j in range(i+1, n):\n",
    "            X[i] = sub(X[i], mul(A[i][j], X[j], sf), sf)\n",
    "        X[i] = div(X[i], A[i][i], sf)\n",
    "\n",
    "    return X"
   ]
  },
  {
   "cell_type": "markdown",
   "metadata": {},
   "source": [
    "### Testing with theoretical class example"
   ]
  },
  {
   "cell_type": "code",
   "execution_count": 6,
   "metadata": {},
   "outputs": [
    {
     "name": "stdout",
     "output_type": "stream",
     "text": [
      "-1.41 2 0 \t|\t 1\n",
      "0.0 0.01 1.0 \t|\t 1.71\n",
      "0.0 0.0 -201.0 \t|\t -341.0\n",
      "\n",
      "x1 = 0.709\n",
      "x2 = 1.0\n",
      "x3 = 1.7\n"
     ]
    },
    {
     "name": "stderr",
     "output_type": "stream",
     "text": [
      "d:\\anaconda\\lib\\site-packages\\sigfig\\sigfig.py:586: UserWarning: warning: 3 significant figures requested from number with only 1 significant figures\n",
      "  warn(\"warning: %d significant figures requested from number with only %d significant figures\" % (given['sigfigs'], len(num.map)))\n",
      "d:\\anaconda\\lib\\site-packages\\sigfig\\sigfig.py:586: UserWarning: warning: 3 significant figures requested from number with only 2 significant figures\n",
      "  warn(\"warning: %d significant figures requested from number with only %d significant figures\" % (given['sigfigs'], len(num.map)))\n"
     ]
    }
   ],
   "source": [
    "A = [\n",
    "    [-1.41, 2, 0],\n",
    "    [1, -1.41, 1],\n",
    "    [0, 2, -1.41]\n",
    "]\n",
    "\n",
    "B = [1, 1, 1]\n",
    "\n",
    "a1, b1 = gaussian_elimination(A, B, 3)\n",
    "print_augmented_matrix(a1, b1)\n",
    "X = solve_upper_triangular(a1, b1, 3)\n",
    "print_solution(X)\n"
   ]
  },
  {
   "cell_type": "markdown",
   "metadata": {},
   "source": [
    "## Propagation of the Error"
   ]
  },
  {
   "cell_type": "markdown",
   "metadata": {},
   "source": [
    "After calculating the Solution Vector, $X$, we want to check how much the error propagfrom the limited significant figures system.\n",
    "\n",
    "Let the Residue Vector be $R = AX-B$.\n",
    "\n",
    "The squared value of the magnitude of the Residue Vector, $|R|^2$, gives a good measure of the amount of error propagated into the solution."
   ]
  },
  {
   "cell_type": "code",
   "execution_count": 7,
   "metadata": {},
   "outputs": [
    {
     "name": "stdout",
     "output_type": "stream",
     "text": [
      "1.96\n"
     ]
    }
   ],
   "source": [
    "def get_residue_squared_magnitude(A, B, X, sf):\n",
    "    # pass the values to the correct number of significant figures, just in case\n",
    "    n = len(A)\n",
    "    for i in range(n):\n",
    "        for j in range(n):\n",
    "            A[i][j] = round(A[i][j], sigfigs=sf)\n",
    "        B[i] = round(B[i], sigfigs=sf)\n",
    "        X[i] = round(X[i], sigfigs=sf)\n",
    "    \n",
    "    R = [0 for _ in range(len(X))]\n",
    "    for r in range(len(R)):\n",
    "        for j in range(len(A)):\n",
    "            R[r] = add(R[r], mul(A[r][j], X[j], sf), sf)\n",
    "        R[r] = sub(R[r], B[r], sf)\n",
    "\n",
    "    error_prop = 0\n",
    "    for r in R:\n",
    "        error_prop = add(error_prop, mul(r, r, sf), sf)\n",
    "    return error_prop\n",
    "\n",
    "A = [\n",
    "    [-1.41, 2, 0],\n",
    "    [1, -1.41, 1],\n",
    "    [0, 2, -1.41]\n",
    "]\n",
    "\n",
    "B = [1, 1, 1]\n",
    "\n",
    "print(get_residue_squared_magnitude(A, B, X, 3))"
   ]
  },
  {
   "cell_type": "markdown",
   "metadata": {},
   "source": [
    "## Solving Systems of Linear Equations with Partial Pivoting"
   ]
  },
  {
   "cell_type": "markdown",
   "metadata": {},
   "source": [
    "The error propagates due to the choice of the pivot on the k-th steps of the Gaussian Elimination algorithm.\n",
    "\n",
    "In Gaussian Elimination with **Partial Pivoting**, on the k-th step, we search for the highest value in the column $k$ and rows $k$ to $n$.\n",
    "\n",
    "Let's say that value is in the $r$-th row. Then, we swap row $r$ with row $k$, and proceed with the remaining execution of the algorithm step."
   ]
  },
  {
   "cell_type": "markdown",
   "metadata": {},
   "source": [
    "### Implementation of the Gaussian Elimination algorith with Partial Pivoting"
   ]
  },
  {
   "cell_type": "code",
   "execution_count": 8,
   "metadata": {},
   "outputs": [
    {
     "name": "stdout",
     "output_type": "stream",
     "text": [
      "x1 = 1.7\n",
      "x2 = 1.7\n",
      "x3 = 1.7\n",
      "Squared magnitude of the Residue Vector = 0.0\n"
     ]
    }
   ],
   "source": [
    "# returns the upper triangular matrix resultant of the Gaussian Elimination method\n",
    "def gaussian_elimination_partial_pivoting(A, B, sf):\n",
    "    n = len(B)\n",
    "    # pass the values to the correct number of significant figures, just in case\n",
    "    for i in range(n):\n",
    "        for j in range(n):\n",
    "            A[i][j] = round(A[i][j], sigfigs=sf)\n",
    "        B[i] = round(B[i], sigfigs=sf)\n",
    "    # start the Gaussian Elimination algorithm\n",
    "    for k in range(n):\n",
    "        # choose pivot\n",
    "        r = k\n",
    "        for i in range(k, n):\n",
    "            if A[i][k] > A[r][k]:\n",
    "                r = i\n",
    "        A[r], A[k] = A[k], A[r]\n",
    "        B[r], B[k] = B[k], B[r]\n",
    "        # continue the algorithm\n",
    "        for i in range(k+1, n):\n",
    "            m = div(A[i][k], A[k][k], sf)\n",
    "            for j in range(k, n):\n",
    "                A[i][j] = sub(A[i][j], mul(m, A[k][j], sf), sf)\n",
    "            B[i] = sub(B[i], mul(m, B[k], sf), sf)\n",
    "\n",
    "    return A, B\n",
    "\n",
    "A = [\n",
    "    [-1.41, 2, 0],\n",
    "    [1, -1.41, 1],\n",
    "    [0, 2, -1.41]\n",
    "]\n",
    "\n",
    "B = [1, 1, 1]\n",
    "\n",
    "a1, b1 = gaussian_elimination_partial_pivoting(A, B, 3)\n",
    "X = solve_upper_triangular(a1, b1, 3)\n",
    "print_solution(X)\n",
    "print(f\"Squared magnitude of the Residue Vector = {get_residue_squared_magnitude(A, B, X, 3)}\")"
   ]
  },
  {
   "cell_type": "markdown",
   "metadata": {},
   "source": [
    "Notebook criado por António Cardoso em 2023 para a Unidade Curricular \"Métodos Numéricos (M2039)\" na Faculdade de Ciências da Universidade do Porto."
   ]
  }
 ],
 "metadata": {
  "kernelspec": {
   "display_name": "base",
   "language": "python",
   "name": "python3"
  },
  "language_info": {
   "codemirror_mode": {
    "name": "ipython",
    "version": 3
   },
   "file_extension": ".py",
   "mimetype": "text/x-python",
   "name": "python",
   "nbconvert_exporter": "python",
   "pygments_lexer": "ipython3",
   "version": "3.9.7"
  }
 },
 "nbformat": 4,
 "nbformat_minor": 2
}
