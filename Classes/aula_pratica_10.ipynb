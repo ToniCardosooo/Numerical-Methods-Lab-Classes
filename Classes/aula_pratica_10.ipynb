{
 "cells": [
  {
   "cell_type": "markdown",
   "metadata": {},
   "source": [
    "Since no programming exercises were shown during week #10 pratical classes, this notebook will only have the presented code definition for the Composite Rules of Integration, and a few solved exercises."
   ]
  },
  {
   "cell_type": "markdown",
   "metadata": {},
   "source": [
    "## Methods' Definitions"
   ]
  },
  {
   "cell_type": "code",
   "execution_count": 1,
   "metadata": {},
   "outputs": [],
   "source": [
    "def composite_rectangles(f, a, b, n, M):\n",
    "    h = (b-a)/n\n",
    "    X = [a+i*h for i in range(n+1)]\n",
    "    result = 0\n",
    "    for i in range(n):\n",
    "        result += f(X[i])\n",
    "    result *= h\n",
    "    error = 1/2 * (b-a) * h * M\n",
    "    return result, error\n",
    "\n",
    "def composite_trapezes(f, a, b, n, M):\n",
    "    h = (b-a)/n\n",
    "    X = [a+i*h for i in range(n+1)]\n",
    "    result = h/2 * (f(a) + f(b))\n",
    "    for i in range(1, n):\n",
    "        result += h*f(X[i])\n",
    "    error = abs(-1/12 * h**2 * (b-a) * M)\n",
    "    return result, error\n",
    "\n",
    "def composite_simpson(f, a, b, n, M):\n",
    "    h = (b-a)/n\n",
    "    X = [a+i*h for i in range(n+1)]\n",
    "    result = 0\n",
    "    for i in range(n+1):\n",
    "        if (i == 0 or i == n):\n",
    "            result += f(X[i])\n",
    "        elif i%2 == 0:\n",
    "            result += 2 * f(X[i])\n",
    "        else:\n",
    "            result += 4 * f(X[i])\n",
    "    result *= h/3\n",
    "    error = abs(-1/180 * h**4 * (b-a) * M)\n",
    "    return result, error"
   ]
  },
  {
   "cell_type": "code",
   "execution_count": 2,
   "metadata": {},
   "outputs": [],
   "source": [
    "# f: function\n",
    "def simple_rectangles(f, a, b, M):\n",
    "    result = (b-a)*f(a)\n",
    "    error = 1/2 * M * (b-a)**2\n",
    "    return result, error\n",
    "\n",
    "# f: function\n",
    "def simple_trapeze(f, a, b, M):\n",
    "    result = 1/2 * (b-a) * (f(a)+f(b))\n",
    "    error = abs(-1/12 * M * (b-a)**3)\n",
    "    return result, error\n",
    "\n",
    "# f: function\n",
    "def simple_simpson(f, a, b, M):\n",
    "    m = (a+b)/2\n",
    "    result = ((b-a)/6) * (f(a) + 4*f(m) + f(b))\n",
    "    error = abs(-1/90 * M * ((b-a)/2)**5)\n",
    "    return result, error\n",
    "\n",
    "\n",
    "# first version - applying the simple rule iteratively\n",
    "def composite_rectangles_a(f, a, b, n, M):\n",
    "    h = (b-a)/n\n",
    "    X = [a+i*h for i in range(n+1)]\n",
    "    result = 0\n",
    "    for i in range(n):\n",
    "        partial_result, partial_error = simple_rectangles(f, X[i], X[i+1], M) # the partial_error value will not be used\n",
    "        result += partial_result\n",
    "    error = 1/2 * (b-a) * h * M\n",
    "    return result, error\n",
    "\n",
    "# first version - applying the simple rule iteratively\n",
    "def composite_trapezes_a(f, a, b, n, M):\n",
    "    h = (b-a)/n\n",
    "    X = [a+i*h for i in range(n+1)]\n",
    "    result = 0\n",
    "    for i in range(n):\n",
    "        partial_result, partial_error = simple_trapeze(f, X[i], X[i+1], M) # the partial_error value will not be used\n",
    "        result += partial_result\n",
    "    error = abs(-1/12 * (b-a) * h**2 * M)\n",
    "    return result, error\n",
    "\n",
    "\n",
    "# first version - applying the simple rule iteratively\n",
    "def composite_simpson_a(f, a, b, n, M):\n",
    "    h = (b-a)/n\n",
    "    X = [a+i*h for i in range(n+1)]\n",
    "    result = 0\n",
    "    for i in range(n-2 +1): # i = 0, 1, ..., n-2\n",
    "        partial_result, partial_error = simple_simpson(f, X[i], X[i+2], M) # the partial_error value will not be used\n",
    "        result += partial_result\n",
    "    error = abs(-1/180 * (b-a) * h**4 * M)\n",
    "    return result, error"
   ]
  },
  {
   "cell_type": "markdown",
   "metadata": {},
   "source": [
    "## Worksheet 4"
   ]
  },
  {
   "cell_type": "markdown",
   "metadata": {},
   "source": [
    "### Exercise 2"
   ]
  },
  {
   "cell_type": "code",
   "execution_count": 3,
   "metadata": {},
   "outputs": [
    {
     "name": "stdout",
     "output_type": "stream",
     "text": [
      "item a)\n",
      "Result:  4.11123 +/- 9.24e-01\n",
      "Result:  4.11123 +/- 9.24e-01\n",
      "\n",
      "============================\n",
      "\n",
      "item b)\n",
      "Result:  4.69508 +/-  3.85e-02\n",
      "Result:  4.69508 +/-  3.85e-02\n",
      "\n",
      "============================\n",
      "\n",
      "item c)\n",
      "Result:  4.67087 +/-  1.60e-04\n",
      "Result:  6.93518 +/-  1.60e-04\n"
     ]
    }
   ],
   "source": [
    "import math\n",
    "\n",
    "def f(x):\n",
    "    return math.e ** x\n",
    "\n",
    "print(\"item a)\")\n",
    "# f'(x) = e^x\n",
    "# M = max |f'(x)| in [1,2] --> M = e^2\n",
    "result_a, error_a = composite_rectangles(f, 1, 2, 4, math.e**2)\n",
    "print(f\"Result: {result_a: .5f} +/- {error_a :.2e}\")\n",
    "result_a, error_a = composite_rectangles_a(f, 1, 2, 4, math.e**2)\n",
    "print(f\"Result: {result_a: .5f} +/- {error_a :.2e}\")\n",
    "\n",
    "print()\n",
    "print(\"============================\")\n",
    "print()\n",
    "\n",
    "print(\"item b)\")\n",
    "# f''(x) = e^x\n",
    "# M = max |f''(x)| in [1,2] --> M = e^2\n",
    "result_b, error_b = composite_trapezes(f, 1, 2, 4, math.e**2)\n",
    "print(f\"Result: {result_b: .5f} +/- {error_b: .2e}\")\n",
    "result_b, error_b = composite_trapezes_a(f, 1, 2, 4, math.e**2)\n",
    "print(f\"Result: {result_b: .5f} +/- {error_b: .2e}\")\n",
    "\n",
    "print()\n",
    "print(\"============================\")\n",
    "print()\n",
    "\n",
    "print(\"item c)\")\n",
    "# f''''(x) = e^x\n",
    "# M = max |f''''(x)| in [1,2] --> M = e^2\n",
    "result_c, error_c = composite_simpson(f, 1, 2, 4, math.e**2)\n",
    "print(f\"Result: {result_c: .5f} +/- {error_c: .2e}\")\n",
    "result_c, error_c = composite_simpson_a(f, 1, 2, 4, math.e**2)\n",
    "print(f\"Result: {result_c: .5f} +/- {error_c: .2e}\")"
   ]
  },
  {
   "cell_type": "markdown",
   "metadata": {},
   "source": [
    "### Exercise 3"
   ]
  },
  {
   "cell_type": "code",
   "execution_count": 9,
   "metadata": {},
   "outputs": [
    {
     "name": "stdout",
     "output_type": "stream",
     "text": [
      "item a)\n",
      "Result:  0.42702 +/- 1.25e-01\n",
      "\n",
      "============================\n",
      "\n",
      "item b)\n",
      "Result:  0.40619 +/-  1.04e-02\n",
      "\n",
      "============================\n",
      "\n",
      "item c)\n",
      "Result:  0.40547 +/-  5.21e-04\n"
     ]
    }
   ],
   "source": [
    "\n",
    "def f(x):\n",
    "    return 1/(1+x)\n",
    "\n",
    "print(\"item a)\")\n",
    "# f'(x) = -1*(1+x)^-2\n",
    "# M = max |f'(x)| in [0,1] --> M = 1\n",
    "result_a, error_a = composite_rectangles(f, 1, 2, 4, 1)\n",
    "print(f\"Result: {result_a: .5f} +/- {error_a :.2e}\")\n",
    "\n",
    "print()\n",
    "print(\"============================\")\n",
    "print()\n",
    "\n",
    "print(\"item b)\")\n",
    "# f''(x) = 2*(1+x)^-3\n",
    "# M = max |f''(x)| in [0,1] --> M = 2\n",
    "result_b, error_b = composite_trapezes(f, 1, 2, 4, 2)\n",
    "print(f\"Result: {result_b: .5f} +/- {error_b: .2e}\")\n",
    "\n",
    "print()\n",
    "print(\"============================\")\n",
    "print()\n",
    "\n",
    "print(\"item c)\")\n",
    "# f''''(x) = 24*(1+x)^-5\n",
    "# M = max |f''''(x)| in [0,1] --> M = 24\n",
    "result_c, error_c = composite_simpson(f, 1, 2, 4, 24)\n",
    "print(f\"Result: {result_c: .5f} +/- {error_c: .2e}\")"
   ]
  }
 ],
 "metadata": {
  "kernelspec": {
   "display_name": "base",
   "language": "python",
   "name": "python3"
  },
  "language_info": {
   "codemirror_mode": {
    "name": "ipython",
    "version": 3
   },
   "file_extension": ".py",
   "mimetype": "text/x-python",
   "name": "python",
   "nbconvert_exporter": "python",
   "pygments_lexer": "ipython3",
   "version": "3.9.7"
  }
 },
 "nbformat": 4,
 "nbformat_minor": 2
}
